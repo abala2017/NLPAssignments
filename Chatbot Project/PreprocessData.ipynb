{
 "cells": [
  {
   "cell_type": "code",
   "execution_count": 1,
   "metadata": {},
   "outputs": [
    {
     "name": "stderr",
     "output_type": "stream",
     "text": [
      "c:\\users\\abala\\appdata\\local\\programs\\python\\python38\\lib\\site-packages\\numpy\\_distributor_init.py:30: UserWarning: loaded more than 1 DLL from .libs:\n",
      "c:\\users\\abala\\appdata\\local\\programs\\python\\python38\\lib\\site-packages\\numpy\\.libs\\libopenblas.FB5AE2TYXYH2IJRDKGDGQ3XBKLKTF43H.gfortran-win_amd64.dll\n",
      "c:\\users\\abala\\appdata\\local\\programs\\python\\python38\\lib\\site-packages\\numpy\\.libs\\libopenblas.NOIJJG62EMASZI6NYURL6JBKM4EVBGM7.gfortran-win_amd64.dll\n",
      "  warnings.warn(\"loaded more than 1 DLL from .libs:\"\n"
     ]
    }
   ],
   "source": [
    "import pandas as pd\n",
    "import re\n",
    "import numpy as np\n",
    "from keras.preprocessing.text import Tokenizer\n",
    "from keras_preprocessing.sequence import pad_sequences\n",
    "import tensorflow as tf\n",
    "from keras.layers import Input, LSTM, Dense\n",
    "from keras.models import Model"
   ]
  },
  {
   "cell_type": "code",
   "execution_count": 2,
   "metadata": {},
   "outputs": [],
   "source": [
    "df = pd.read_csv('dataset.csv')\n",
    "df['speaker'] = df['speaker'].astype('str')\n",
    "df['response'] = df['response'].astype('str')"
   ]
  },
  {
   "cell_type": "code",
   "execution_count": 3,
   "metadata": {},
   "outputs": [],
   "source": [
    "## Remove stage directions which are typically in parenthesis (like this)\n",
    "def preprocess(text, isInput = True):\n",
    "    \n",
    "    ## Remove stage directions which are typically in parenthesis (like this)\n",
    "    text = re.sub(r'\\([^)]*\\)', '', str(text))\n",
    "    \n",
    "    ## Remove capital letters\n",
    "    text = text.lower()\n",
    "    \n",
    "    ## Remove contractions\n",
    "    contractions = re.findall(\"[']\", text)\n",
    "    for i in contractions:\n",
    "        text = text.replace(i,\"\")\n",
    "        \n",
    "    #replace multiple punctuation with single\n",
    "    repeatpunctuations = re.findall('[.,!?]{2,}',text)\n",
    "    for repeatpunctuation in repeatpunctuations:\n",
    "        text = text.replace(repeatpunctuation, repeatpunctuation[0])\n",
    "    \n",
    "    ## add spaces between last word and punctuation\n",
    "    puncs = re.findall('[.!?,]', text)\n",
    "    for i in puncs:\n",
    "        text = text.replace(i,\" \"+i[0]+\" \")\n",
    "        \n",
    "    ## remove all punctuation\n",
    "    text = re.sub(r'[^\\w\\s]', '', text)\n",
    "        \n",
    "    ## remove multiple spaces and replace with just one\n",
    "    text =  re.sub(' +', ' ', text)\n",
    "    \n",
    "    ## remove trailing and leading spaces\n",
    "    text = text.strip()\n",
    "    \n",
    "    return text"
   ]
  },
  {
   "cell_type": "code",
   "execution_count": 4,
   "metadata": {},
   "outputs": [],
   "source": [
    "df['speaker'] = df['speaker'].apply(preprocess)\n",
    "df['response'] = df['response'].apply(preprocess, isInput = False)"
   ]
  },
  {
   "cell_type": "code",
   "execution_count": 5,
   "metadata": {},
   "outputs": [
    {
     "data": {
      "text/html": [
       "<div>\n",
       "<style scoped>\n",
       "    .dataframe tbody tr th:only-of-type {\n",
       "        vertical-align: middle;\n",
       "    }\n",
       "\n",
       "    .dataframe tbody tr th {\n",
       "        vertical-align: top;\n",
       "    }\n",
       "\n",
       "    .dataframe thead th {\n",
       "        text-align: right;\n",
       "    }\n",
       "</style>\n",
       "<table border=\"1\" class=\"dataframe\">\n",
       "  <thead>\n",
       "    <tr style=\"text-align: right;\">\n",
       "      <th></th>\n",
       "      <th>speaker</th>\n",
       "      <th>response</th>\n",
       "    </tr>\n",
       "  </thead>\n",
       "  <tbody>\n",
       "    <tr>\n",
       "      <th>6216</th>\n",
       "      <td>hey guys guess who i found at lax my baby sist...</td>\n",
       "      <td>excuse me i object you propose a guessing game...</td>\n",
       "    </tr>\n",
       "    <tr>\n",
       "      <th>1056</th>\n",
       "      <td>whats that</td>\n",
       "      <td>im going to run around outside with a wet head...</td>\n",
       "    </tr>\n",
       "    <tr>\n",
       "      <th>9053</th>\n",
       "      <td>well maybe its all for the best you know i alw...</td>\n",
       "      <td>no it doesnt not unless the two doors are conn...</td>\n",
       "    </tr>\n",
       "    <tr>\n",
       "      <th>346</th>\n",
       "      <td>maybe we can go up to napa valley theyve got t...</td>\n",
       "      <td>boo wine but yay trains im in</td>\n",
       "    </tr>\n",
       "    <tr>\n",
       "      <th>5356</th>\n",
       "      <td>now that penny and i are engaged i thought we ...</td>\n",
       "      <td>of course shes spent many nights here and your...</td>\n",
       "    </tr>\n",
       "  </tbody>\n",
       "</table>\n",
       "</div>"
      ],
      "text/plain": [
       "                                                speaker  \\\n",
       "6216  hey guys guess who i found at lax my baby sist...   \n",
       "1056                                         whats that   \n",
       "9053  well maybe its all for the best you know i alw...   \n",
       "346   maybe we can go up to napa valley theyve got t...   \n",
       "5356  now that penny and i are engaged i thought we ...   \n",
       "\n",
       "                                               response  \n",
       "6216  excuse me i object you propose a guessing game...  \n",
       "1056  im going to run around outside with a wet head...  \n",
       "9053  no it doesnt not unless the two doors are conn...  \n",
       "346                       boo wine but yay trains im in  \n",
       "5356  of course shes spent many nights here and your...  "
      ]
     },
     "execution_count": 5,
     "metadata": {},
     "output_type": "execute_result"
    }
   ],
   "source": [
    "#shuffle the data\n",
    "df = df.reindex(np.random.RandomState(seed=42).permutation(df.index))\n",
    "df.head()"
   ]
  },
  {
   "cell_type": "code",
   "execution_count": 6,
   "metadata": {},
   "outputs": [],
   "source": [
    "df.to_csv('preprocessedDataset.csv', index = False)"
   ]
  }
 ],
 "metadata": {
  "kernelspec": {
   "display_name": "Python 3",
   "language": "python",
   "name": "python3"
  },
  "language_info": {
   "codemirror_mode": {
    "name": "ipython",
    "version": 3
   },
   "file_extension": ".py",
   "mimetype": "text/x-python",
   "name": "python",
   "nbconvert_exporter": "python",
   "pygments_lexer": "ipython3",
   "version": "3.8.2"
  }
 },
 "nbformat": 4,
 "nbformat_minor": 4
}
