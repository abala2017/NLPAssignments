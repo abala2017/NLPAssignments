{
 "cells": [
  {
   "cell_type": "code",
   "execution_count": 1,
   "metadata": {},
   "outputs": [],
   "source": [
    "import pandas as pd\n",
    "import urllib.request\n",
    "import urllib.parse\n",
    "from bs4 import BeautifulSoup\n",
    "import re\n",
    "\n",
    "baseUrl = 'https://transcripts.foreverdreaming.org'\n",
    "start = 8536"
   ]
  },
  {
   "cell_type": "code",
   "execution_count": 2,
   "metadata": {},
   "outputs": [],
   "source": [
    "def getLinks(url):\n",
    "    links = set()\n",
    "    basepage = urllib.request.urlopen(url)\n",
    "    soup = BeautifulSoup(basepage)\n",
    "    for link in soup.find_all('h3'):\n",
    "        if (re.search(\"([0-9]x[0-9])\", link.text)):\n",
    "            for part in link.findChildren('a'):\n",
    "                links.add(part['href'][1:])\n",
    "    return links"
   ]
  },
  {
   "cell_type": "code",
   "execution_count": 3,
   "metadata": {},
   "outputs": [],
   "source": [
    "def getDialogue(baseUrl, predicate):\n",
    "    url = baseUrl + predicate\n",
    "    try:\n",
    "        basepage = urllib.request.urlopen(url)\n",
    "    except Exception as e:\n",
    "        return [],[]\n",
    "    soup = BeautifulSoup(basepage)\n",
    "    speakerList = []\n",
    "    lineList = []\n",
    "    for line in soup.find_all(\"p\"):\n",
    "        if (len(line.attrs) == 0):\n",
    "            if ':' in line.text:\n",
    "                sepLine = line.text.split(':')\n",
    "                if '(' in sepLine[0]:\n",
    "                    speakerList.append(sepLine[0].split(' ')[0])\n",
    "                else:\n",
    "                    speakerList.append(sepLine[0])\n",
    "                lineList.append(sepLine[1])\n",
    "    return speakerList, lineList"
   ]
  },
  {
   "cell_type": "code",
   "execution_count": 4,
   "metadata": {},
   "outputs": [],
   "source": [
    "allQueries = set()\n",
    "base = 'https://transcripts.foreverdreaming.org/viewforum.php?f=159&start='\n",
    "for i in range(0,151,25):\n",
    "    allQueries.update(getLinks(base + str(i)))\n",
    "allQueries.update(getLinks(base + str(158)))"
   ]
  },
  {
   "cell_type": "code",
   "execution_count": 6,
   "metadata": {},
   "outputs": [
    {
     "name": "stderr",
     "output_type": "stream",
     "text": [
      "Some characters could not be decoded, and were replaced with REPLACEMENT CHARACTER.\n",
      "Some characters could not be decoded, and were replaced with REPLACEMENT CHARACTER.\n",
      "Some characters could not be decoded, and were replaced with REPLACEMENT CHARACTER.\n",
      "Some characters could not be decoded, and were replaced with REPLACEMENT CHARACTER.\n"
     ]
    }
   ],
   "source": [
    "speakerList = []\n",
    "lineList = []\n",
    "for query in allQueries:\n",
    "    a,b = getDialogue(baseUrl, query)\n",
    "    speakerList = speakerList + a\n",
    "    lineList = lineList + b"
   ]
  },
  {
   "cell_type": "code",
   "execution_count": 12,
   "metadata": {},
   "outputs": [],
   "source": [
    "speakerLine = []\n",
    "sheldonLine = []\n",
    "for i in range(len(speakerList)):\n",
    "    if(speakerList[i] == 'Sheldon'):\n",
    "        if(speakerList[i-1] != 'Sheldon' and speakerList[i-1] != 'Scene'):\n",
    "            speakerLine.append(lineList[i-1])\n",
    "            sheldonLine.append(lineList[i])"
   ]
  },
  {
   "cell_type": "code",
   "execution_count": 13,
   "metadata": {},
   "outputs": [],
   "source": [
    "df = pd.DataFrame(list(zip(speakerLine, sheldonLine)), columns = ['speaker', 'response'])"
   ]
  },
  {
   "cell_type": "code",
   "execution_count": 14,
   "metadata": {},
   "outputs": [],
   "source": [
    "df.to_csv('dataset.csv', index = False)"
   ]
  }
 ],
 "metadata": {
  "kernelspec": {
   "display_name": "Python 3",
   "language": "python",
   "name": "python3"
  },
  "language_info": {
   "codemirror_mode": {
    "name": "ipython",
    "version": 3
   },
   "file_extension": ".py",
   "mimetype": "text/x-python",
   "name": "python",
   "nbconvert_exporter": "python",
   "pygments_lexer": "ipython3",
   "version": "3.8.2"
  }
 },
 "nbformat": 4,
 "nbformat_minor": 4
}
