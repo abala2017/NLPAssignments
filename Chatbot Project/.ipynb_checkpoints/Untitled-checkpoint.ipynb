{
 "cells": [
  {
   "cell_type": "code",
   "execution_count": 1,
   "metadata": {},
   "outputs": [
    {
     "name": "stderr",
     "output_type": "stream",
     "text": [
      "c:\\users\\abala\\appdata\\local\\programs\\python\\python38\\lib\\site-packages\\numpy\\_distributor_init.py:30: UserWarning: loaded more than 1 DLL from .libs:\n",
      "c:\\users\\abala\\appdata\\local\\programs\\python\\python38\\lib\\site-packages\\numpy\\.libs\\libopenblas.FB5AE2TYXYH2IJRDKGDGQ3XBKLKTF43H.gfortran-win_amd64.dll\n",
      "c:\\users\\abala\\appdata\\local\\programs\\python\\python38\\lib\\site-packages\\numpy\\.libs\\libopenblas.NOIJJG62EMASZI6NYURL6JBKM4EVBGM7.gfortran-win_amd64.dll\n",
      "  warnings.warn(\"loaded more than 1 DLL from .libs:\"\n"
     ]
    }
   ],
   "source": [
    "import pandas as pd\n",
    "import numpy as np"
   ]
  },
  {
   "cell_type": "code",
   "execution_count": 2,
   "metadata": {},
   "outputs": [
    {
     "data": {
      "text/html": [
       "<div>\n",
       "<style scoped>\n",
       "    .dataframe tbody tr th:only-of-type {\n",
       "        vertical-align: middle;\n",
       "    }\n",
       "\n",
       "    .dataframe tbody tr th {\n",
       "        vertical-align: top;\n",
       "    }\n",
       "\n",
       "    .dataframe thead th {\n",
       "        text-align: right;\n",
       "    }\n",
       "</style>\n",
       "<table border=\"1\" class=\"dataframe\">\n",
       "  <thead>\n",
       "    <tr style=\"text-align: right;\">\n",
       "      <th></th>\n",
       "      <th>speaker</th>\n",
       "      <th>response</th>\n",
       "    </tr>\n",
       "  </thead>\n",
       "  <tbody>\n",
       "    <tr>\n",
       "      <th>0</th>\n",
       "      <td>hey guys guess who i found at lax my baby sist...</td>\n",
       "      <td>excuse me i object you propose a guessing game...</td>\n",
       "    </tr>\n",
       "    <tr>\n",
       "      <th>1</th>\n",
       "      <td>whats that</td>\n",
       "      <td>im going to run around outside with a wet head...</td>\n",
       "    </tr>\n",
       "    <tr>\n",
       "      <th>2</th>\n",
       "      <td>well maybe its all for the best you know i alw...</td>\n",
       "      <td>no it doesnt not unless the two doors are conn...</td>\n",
       "    </tr>\n",
       "    <tr>\n",
       "      <th>3</th>\n",
       "      <td>maybe we can go up to napa valley theyve got t...</td>\n",
       "      <td>boo wine but yay trains im in</td>\n",
       "    </tr>\n",
       "    <tr>\n",
       "      <th>4</th>\n",
       "      <td>now that penny and i are engaged i thought we ...</td>\n",
       "      <td>of course shes spent many nights here and your...</td>\n",
       "    </tr>\n",
       "  </tbody>\n",
       "</table>\n",
       "</div>"
      ],
      "text/plain": [
       "                                             speaker  \\\n",
       "0  hey guys guess who i found at lax my baby sist...   \n",
       "1                                         whats that   \n",
       "2  well maybe its all for the best you know i alw...   \n",
       "3  maybe we can go up to napa valley theyve got t...   \n",
       "4  now that penny and i are engaged i thought we ...   \n",
       "\n",
       "                                            response  \n",
       "0  excuse me i object you propose a guessing game...  \n",
       "1  im going to run around outside with a wet head...  \n",
       "2  no it doesnt not unless the two doors are conn...  \n",
       "3                      boo wine but yay trains im in  \n",
       "4  of course shes spent many nights here and your...  "
      ]
     },
     "execution_count": 2,
     "metadata": {},
     "output_type": "execute_result"
    }
   ],
   "source": [
    "df = pd.read_csv('preprocessedDataset.csv')\n",
    "df.head()"
   ]
  },
  {
   "cell_type": "code",
   "execution_count": 3,
   "metadata": {},
   "outputs": [],
   "source": [
    "def createSpeakerSet(text):\n",
    "    global promptSet\n",
    "    global promptDict\n",
    "    \n",
    "    text = str(text)\n",
    "    for word in text.split(' '):\n",
    "        if word in promptDict:\n",
    "            promptDict[word] = promptDict[word] + 1\n",
    "            promptSet.add(word)\n",
    "        else:\n",
    "            promptDict[word] = 1\n",
    "        \n",
    "def createResponseSet(text):\n",
    "    global respnseSet\n",
    "    global reponseDict\n",
    "    \n",
    "    text = str(text)\n",
    "    for word in text.split(' '):\n",
    "        if word in responseDict:\n",
    "            responseDict[word] = responseDict[word] + 1\n",
    "            responseSet.add(word)\n",
    "        else:\n",
    "            responseDict[word] = 1"
   ]
  },
  {
   "cell_type": "code",
   "execution_count": 5,
   "metadata": {},
   "outputs": [
    {
     "ename": "MemoryError",
     "evalue": "Unable to allocate 7.04 GiB for an array with shape (9745, 50, 3881) and data type float32",
     "output_type": "error",
     "traceback": [
      "\u001b[1;31m---------------------------------------------------------------------------\u001b[0m",
      "\u001b[1;31mMemoryError\u001b[0m                               Traceback (most recent call last)",
      "Cell \u001b[1;32mIn [5], line 36\u001b[0m\n\u001b[0;32m     34\u001b[0m \u001b[38;5;66;03m## create the empty input and output vectors\u001b[39;00m\n\u001b[0;32m     35\u001b[0m encoderInputSize \u001b[38;5;241m=\u001b[39m (\u001b[38;5;28mlen\u001b[39m(df), maxLenPrompt, promptVocabSize)\n\u001b[1;32m---> 36\u001b[0m encoder_input \u001b[38;5;241m=\u001b[39m np\u001b[38;5;241m.\u001b[39mzeros(encoderInputSize, dtype \u001b[38;5;241m=\u001b[39m \u001b[38;5;124m\"\u001b[39m\u001b[38;5;124mfloat32\u001b[39m\u001b[38;5;124m\"\u001b[39m)\n\u001b[0;32m     38\u001b[0m decoderInputSize \u001b[38;5;241m=\u001b[39m (\u001b[38;5;28mlen\u001b[39m(df), maxLenResponse, responseVocabSize)\n\u001b[0;32m     39\u001b[0m decoder_input \u001b[38;5;241m=\u001b[39m np\u001b[38;5;241m.\u001b[39mzeros(decoderInputSize, dtype \u001b[38;5;241m=\u001b[39m \u001b[38;5;124m\"\u001b[39m\u001b[38;5;124mfloat32\u001b[39m\u001b[38;5;124m\"\u001b[39m)\n",
      "\u001b[1;31mMemoryError\u001b[0m: Unable to allocate 7.04 GiB for an array with shape (9745, 50, 3881) and data type float32"
     ]
    }
   ],
   "source": [
    "promptDict = {}\n",
    "responseDict = {}\n",
    "\n",
    "promptSet = set()\n",
    "responseSet = set()\n",
    "\n",
    "## add the end of the line word\n",
    "promptSet.add(\"<END>\")\n",
    "responseSet.add(\"<END>\")\n",
    "\n",
    "## add the word not in vocab word\n",
    "promptSet.add(\"<OTHER>\")\n",
    "responseSet.add(\"<OTHER>\")\n",
    "\n",
    "\n",
    "## create a set of the vocab for the speaker and the response\n",
    "_ = df['speaker'].apply(createSpeakerSet)\n",
    "_ = df['response'].apply(createResponseSet)\n",
    "\n",
    "## create the sorted vocabulary\n",
    "promptVocab = sorted(list(promptSet))\n",
    "responseVocab = sorted(list(promptSet))\n",
    "\n",
    "## get the size of the vocab\n",
    "promptVocabSize = len(promptVocab)\n",
    "responseVocabSize = len(responseVocab)\n",
    "\n",
    "## get the longest prompt and response\n",
    "#maxLenPrompt = max([len(str(txt)) for txt in list(df['speaker'])])\n",
    "maxLenPrompt = 50\n",
    "#maxLenResponse = max([len(str(txt)) for txt in list(df['response'])])\n",
    "maxLenResponse = 50\n",
    "\n",
    "## create the empty input and output vectors\n",
    "encoderInputSize = (len(df), maxLenPrompt, promptVocabSize)\n",
    "encoder_input = np.zeros(encoderInputSize, dtype = \"float32\")\n",
    "\n",
    "decoderInputSize = (len(df), maxLenResponse, responseVocabSize)\n",
    "decoder_input = np.zeros(decoderInputSize, dtype = \"float32\")\n",
    "\n",
    "decoderOutputSize = np.zeros(decoderInputSize, dtype = \"float32\")\n",
    "\n",
    "## populate the empty input and output vectors\n",
    "inputText = list(df['speaker'])\n",
    "outputText = list(df['response'])\n",
    "\n",
    "for i, (inputText, outPut) in enumerate(zip(inputText, outputText)):\n",
    "    inputList = inputText[i].split(' ')\n",
    "    outputList = outputText[i].split(' ')\n",
    "    for x in len(inputList):\n",
    "        if inputList[x] in promptVocab:\n",
    "            ind = promptVocab.index(inputList[x])\n",
    "        else:\n",
    "            ind = promptVocab.index(\"<OTHER>\")\n",
    "        encoder_input[x][y][ind] = 1.0\n",
    "    encoder_input[x][y+1][promptVocab.index(\"<END>\")] = 1.0\n",
    "    for x in len(outputList):\n",
    "        if inputList[x] in responseVocab:\n",
    "            ind = responseVocab.index(outputList[x])\n",
    "        else:\n",
    "            ind = responsetVocab.index(\"<OTHER>\")\n",
    "        decoder_input[x][y][ind] = 1.0\n",
    "        if i >=1:\n",
    "            decoder_ouput[x][y-1][ind] = 1.0\n",
    "    decoder_input[x][y+1][responseVocab.index(\"<END>\")] = 1.0\n",
    "    decoder_output[x][y][responseVocab.index(\"<END>\")] = 1.0"
   ]
  },
  {
   "cell_type": "code",
   "execution_count": null,
   "metadata": {},
   "outputs": [],
   "source": []
  },
  {
   "cell_type": "code",
   "execution_count": null,
   "metadata": {},
   "outputs": [],
   "source": []
  }
 ],
 "metadata": {
  "kernelspec": {
   "display_name": "Python 3",
   "language": "python",
   "name": "python3"
  },
  "language_info": {
   "codemirror_mode": {
    "name": "ipython",
    "version": 3
   },
   "file_extension": ".py",
   "mimetype": "text/x-python",
   "name": "python",
   "nbconvert_exporter": "python",
   "pygments_lexer": "ipython3",
   "version": "3.8.2"
  }
 },
 "nbformat": 4,
 "nbformat_minor": 4
}
