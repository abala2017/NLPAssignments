{
 "cells": [
  {
   "cell_type": "code",
   "execution_count": 10,
   "metadata": {},
   "outputs": [],
   "source": [
    "import pandas as pd\n",
    "import re\n",
    "import numpy as np\n",
    "from keras.preprocessing.text import Tokenizer\n",
    "from keras_preprocessing.sequence import pad_sequences\n",
    "import tensorflow as tf\n",
    "from keras.layers import Input, LSTM, Dense\n",
    "from keras.models import Model"
   ]
  },
  {
   "cell_type": "code",
   "execution_count": 2,
   "metadata": {},
   "outputs": [],
   "source": [
    "df = pd.read_csv('dataset.csv')"
   ]
  },
  {
   "cell_type": "code",
   "execution_count": 3,
   "metadata": {},
   "outputs": [],
   "source": [
    "## Remove stage directions which are typically in parenthesis (like this)\n",
    "def preprocess(text):\n",
    "    \n",
    "    ## Remove stage directions which are typically in parenthesis (like this)\n",
    "    text = re.sub(r'\\([^)]*\\)', '', str(text))\n",
    "    \n",
    "    ## Remove capital letters\n",
    "    text = text.lower()\n",
    "    \n",
    "    ## Remove contractions\n",
    "    contractions = re.findall(\"[']\", text)\n",
    "    for i in contractions:\n",
    "        text = text.replace(i,\"\")\n",
    "    \n",
    "    ## add spaces between last word and punctuation\n",
    "    puncs = re.findall('[.!?,]', text)\n",
    "    for i in puncs:\n",
    "        text = text.replace(i,\" \"+i[0]+\" \")\n",
    "        \n",
    "    ## remove multiple spaces and replace with just one\n",
    "    text =  re.sub(' +', ' ', text)\n",
    "    \n",
    "    ## remove trailing and leading spaces\n",
    "    text = text.strip()\n",
    "    \n",
    "    return text"
   ]
  },
  {
   "cell_type": "code",
   "execution_count": 4,
   "metadata": {},
   "outputs": [],
   "source": [
    "df['speaker'] = df['speaker'].apply(preprocess)\n",
    "df['response'] = df['response'].apply(preprocess)"
   ]
  },
  {
   "cell_type": "code",
   "execution_count": 5,
   "metadata": {},
   "outputs": [
    {
     "data": {
      "text/html": [
       "<div>\n",
       "<style scoped>\n",
       "    .dataframe tbody tr th:only-of-type {\n",
       "        vertical-align: middle;\n",
       "    }\n",
       "\n",
       "    .dataframe tbody tr th {\n",
       "        vertical-align: top;\n",
       "    }\n",
       "\n",
       "    .dataframe thead th {\n",
       "        text-align: right;\n",
       "    }\n",
       "</style>\n",
       "<table border=\"1\" class=\"dataframe\">\n",
       "  <thead>\n",
       "    <tr style=\"text-align: right;\">\n",
       "      <th></th>\n",
       "      <th>speaker</th>\n",
       "      <th>response</th>\n",
       "    </tr>\n",
       "  </thead>\n",
       "  <tbody>\n",
       "    <tr>\n",
       "      <th>6216</th>\n",
       "      <td>hey guys , guess who i found at lax . my baby ...</td>\n",
       "      <td>excuse me . i object . you propose a guessing ...</td>\n",
       "    </tr>\n",
       "    <tr>\n",
       "      <th>1056</th>\n",
       "      <td>what’s that ?</td>\n",
       "      <td>i’m going to run around outside with a wet hea...</td>\n",
       "    </tr>\n",
       "    <tr>\n",
       "      <th>9053</th>\n",
       "      <td>well , maybe it’s all for the best , you know ...</td>\n",
       "      <td>no it doesn’t . not unless the two doors are c...</td>\n",
       "    </tr>\n",
       "    <tr>\n",
       "      <th>346</th>\n",
       "      <td>maybe we can go up to napa valley . they’ve go...</td>\n",
       "      <td>boo , wine ! but yay , trains . i’m in .</td>\n",
       "    </tr>\n",
       "    <tr>\n",
       "      <th>5356</th>\n",
       "      <td>now that penny and i are engaged , i thought w...</td>\n",
       "      <td>of course . she’s spent many nights here , and...</td>\n",
       "    </tr>\n",
       "  </tbody>\n",
       "</table>\n",
       "</div>"
      ],
      "text/plain": [
       "                                                speaker  \\\n",
       "6216  hey guys , guess who i found at lax . my baby ...   \n",
       "1056                                      what’s that ?   \n",
       "9053  well , maybe it’s all for the best , you know ...   \n",
       "346   maybe we can go up to napa valley . they’ve go...   \n",
       "5356  now that penny and i are engaged , i thought w...   \n",
       "\n",
       "                                               response  \n",
       "6216  excuse me . i object . you propose a guessing ...  \n",
       "1056  i’m going to run around outside with a wet hea...  \n",
       "9053  no it doesn’t . not unless the two doors are c...  \n",
       "346            boo , wine ! but yay , trains . i’m in .  \n",
       "5356  of course . she’s spent many nights here , and...  "
      ]
     },
     "execution_count": 5,
     "metadata": {},
     "output_type": "execute_result"
    }
   ],
   "source": [
    "#shuffle the data\n",
    "df = df.reindex(np.random.RandomState(seed=42).permutation(df.index))\n",
    "df.head()"
   ]
  },
  {
   "cell_type": "code",
   "execution_count": 6,
   "metadata": {},
   "outputs": [
    {
     "name": "stdout",
     "output_type": "stream",
     "text": [
      "Train Size : 7796\n",
      "Dev Size : 973\n",
      "Test Size : 974\n"
     ]
    }
   ],
   "source": [
    "## get x and y and convert to numpy\n",
    "X_data = df['speaker'].to_numpy()\n",
    "Y_data = df['response'].to_numpy()\n",
    "\n",
    "## get the indices for the train, dev, and test sets\n",
    "trainPercent = .8\n",
    "devPercent = .1\n",
    "testPercent = .1\n",
    "trainEnd = (int)(len(X_data) * trainPercent)\n",
    "devEnd =  trainEnd + (int)(len(X_data) * devPercent)\n",
    "\n",
    "## get the train sets\n",
    "X_train = X_data[0: trainEnd]\n",
    "Y_train = Y_data[0: trainEnd]\n",
    "\n",
    "## get the dev sets\n",
    "X_dev = X_data[trainEnd + 1: devEnd]\n",
    "Y_dev = Y_data[trainEnd + 1: devEnd]\n",
    "\n",
    "## get the test sets\n",
    "X_test = X_data[devEnd + 1:]\n",
    "Y_test = X_data[devEnd + 1:]\n",
    "\n",
    "## print the sizes\n",
    "print('Train Size : ' + str(len(X_train)))\n",
    "print('Dev Size : ' + str(len(X_dev)))\n",
    "print('Test Size : ' + str(len(X_test)))"
   ]
  },
  {
   "cell_type": "code",
   "execution_count": 7,
   "metadata": {},
   "outputs": [],
   "source": [
    "## create the tokenizer\n",
    "tokenizer = Tokenizer()\n",
    "\n",
    "## fit the tokenizer on the text\n",
    "tokenizer.fit_on_texts(list(X_train) + list(Y_train))\n",
    "\n",
    "## Unique tokens in the text\n",
    "uniqTokens = len(tokenizer.get_config()['word_counts'])\n",
    "\n",
    "## tokenize the train, dev, and test\n",
    "X_train_tokens = tokenizer.texts_to_sequences(X_train)\n",
    "Y_train_tokens = tokenizer.texts_to_sequences(Y_train)\n",
    "\n",
    "X_dev_tokens = tokenizer.texts_to_sequences(X_dev)\n",
    "Y_dev_tokens = tokenizer.texts_to_sequences(Y_dev)\n",
    "\n",
    "X_test_tokens = tokenizer.texts_to_sequences(X_test)\n",
    "Y_test_tokens = tokenizer.texts_to_sequences(Y_test)\n",
    "\n",
    "## get the largest length of the sentences\n",
    "maxLenX = max([len(s.split()) for s in X_data])\n",
    "maxLenY = max([len(s.split()) for s in Y_data])\n",
    "\n",
    "## padding input to the same size\n",
    "X_train_pad = pad_sequences(X_train_tokens, maxlen = maxLenX)\n",
    "X_dev_pad = pad_sequences(X_dev_tokens, maxlen = maxLenX)\n",
    "X_train_pad = pad_sequences(X_test_tokens, maxlen = maxLenX)\n",
    "\n",
    "Y_train_pad = pad_sequences(Y_train_tokens, maxlen = maxLenY)\n",
    "Y_dev_pad = pad_sequences(Y_dev_tokens, maxlen = maxLenY)\n",
    "Y_train_pad = pad_sequences(Y_test_tokens, maxlen = maxLenY)"
   ]
  },
  {
   "cell_type": "code",
   "execution_count": null,
   "metadata": {},
   "outputs": [],
   "source": []
  }
 ],
 "metadata": {
  "kernelspec": {
   "display_name": "Python 3",
   "language": "python",
   "name": "python3"
  },
  "language_info": {
   "codemirror_mode": {
    "name": "ipython",
    "version": 3
   },
   "file_extension": ".py",
   "mimetype": "text/x-python",
   "name": "python",
   "nbconvert_exporter": "python",
   "pygments_lexer": "ipython3",
   "version": "3.8.2"
  }
 },
 "nbformat": 4,
 "nbformat_minor": 4
}
