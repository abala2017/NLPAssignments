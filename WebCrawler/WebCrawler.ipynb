{
 "cells": [
  {
   "cell_type": "code",
   "execution_count": null,
   "metadata": {},
   "outputs": [],
   "source": [
    "import urllib.request\n",
    "import urllib.parse\n",
    "from bs4 import BeautifulSoup\n",
    "import re\n",
    "import os\n",
    "import nltk\n",
    "from nltk.tokenize import sent_tokenize"
   ]
  },
  {
   "cell_type": "code",
   "execution_count": null,
   "metadata": {},
   "outputs": [],
   "source": [
    "def crawl(base_url, levels = 1):\n",
    "    global urls\n",
    "    baseparse = urllib.parse.urlparse(base_url)\n",
    "    try:\n",
    "        basepage = urllib.request.urlopen(base_url)\n",
    "    except Exception as e:\n",
    "        return\n",
    "    soup = BeautifulSoup(basepage)\n",
    "    \n",
    "    for link in soup.find_all(\"a\", href=True):\n",
    "        parsed_url = urllib.parse.urlparse(link['href'])\n",
    "        if parsed_url.scheme == '' and parsed_url.netloc == '':\n",
    "            url = ''.join([baseparse.scheme, '://', baseparse.netloc, parsed_url.path])\n",
    "            if(url not in urls) and levels != 0:\n",
    "                crawl(url, levels - 1)\n",
    "            urls.add(url)\n",
    "        elif isValid(link['href']):\n",
    "            if(link['href'] not in urls) and (levels != 0):\n",
    "                crawl(url, levels - 1)\n",
    "            urls.add(link['href'])"
   ]
  },
  {
   "cell_type": "code",
   "execution_count": null,
   "metadata": {},
   "outputs": [],
   "source": [
    "def isValid(url):\n",
    "    sketchUrl = urllib.parse.urlparse(url)\n",
    "    if sketchUrl.scheme and sketchUrl.netloc:\n",
    "        return True\n",
    "    else:\n",
    "        return False"
   ]
  },
  {
   "cell_type": "code",
   "execution_count": null,
   "metadata": {},
   "outputs": [],
   "source": [
    "def scrape(urls):\n",
    "    for url in urls:\n",
    "        try:\n",
    "            page = urllib.request.urlopen(url)\n",
    "        except Exception as e:\n",
    "            print(\"Couldn't access the page : \" + url)\n",
    "            continue\n",
    "        soup = BeautifulSoup(page)\n",
    "        page_text = ''\n",
    "        for tag in soup.find_all('p'):\n",
    "            page_text = page_text + ' ' + tag.get_text()\n",
    "        fname = re.sub('[<>:\"\\/|?*]',\"\",url)\n",
    "        if(len(fname) > 100):\n",
    "            fname = fname[:100]\n",
    "        fname = 'pagedata/' + fname + '.txt'\n",
    "        try:\n",
    "            f = open(fname, \"w+\")\n",
    "            f.write(page_text)\n",
    "            f.close()\n",
    "        except Exception as E:\n",
    "            print(\"Couldn't write : \" + url)\n",
    "            continue"
   ]
  },
  {
   "cell_type": "code",
   "execution_count": null,
   "metadata": {},
   "outputs": [],
   "source": [
    "## CLEAN UP THE TEXT\n",
    "def cleanText(text):\n",
    "    text = text.replace('\\n', '')\n",
    "    text = text.replace('\\t', '')\n",
    "    return text"
   ]
  },
  {
   "cell_type": "code",
   "execution_count": null,
   "metadata": {},
   "outputs": [],
   "source": [
    "def cleanFiles(path)\n",
    "    for file in os.listdir(path):\n",
    "        fname = os.path.join(path,file)\n",
    "        f = open(fname, 'r')\n",
    "        text = f.read()\n",
    "        text = cleanText()\n",
    "        sent_tokens = sent_tokenize(text)\n",
    "        for \n",
    "        print(type(sent_tokens))"
   ]
  },
  {
   "cell_type": "code",
   "execution_count": null,
   "metadata": {},
   "outputs": [],
   "source": [
    "urls = set()\n",
    "starting_url = 'https://www.usatoday.com/story/tech/2022/10/05/apple-universal-charger-after-eu-votes-new-rule/8188187001/'\n",
    "urls.add(starting_url)\n",
    "crawl(starting_url, levels = 0)\n",
    "scrape(urls)\n",
    "fileTokenize('pagedata')"
   ]
  },
  {
   "cell_type": "code",
   "execution_count": null,
   "metadata": {},
   "outputs": [],
   "source": []
  }
 ],
 "metadata": {
  "kernelspec": {
   "display_name": "Python 3",
   "language": "python",
   "name": "python3"
  },
  "language_info": {
   "codemirror_mode": {
    "name": "ipython",
    "version": 3
   },
   "file_extension": ".py",
   "mimetype": "text/x-python",
   "name": "python",
   "nbconvert_exporter": "python",
   "pygments_lexer": "ipython3",
   "version": "3.8.2"
  }
 },
 "nbformat": 4,
 "nbformat_minor": 4
}
